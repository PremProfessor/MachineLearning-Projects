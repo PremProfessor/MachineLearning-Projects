{
  "cells": [
    {
      "cell_type": "code",
      "execution_count": 5,
      "metadata": {
        "id": "0T44zISJ9rp_"
      },
      "outputs": [],
      "source": [
        "import pandas as pd\n",
        "import numpy as np\n",
        "import matplotlib.pyplot as plt"
      ]
    },
    {
      "cell_type": "code",
      "execution_count": 7,
      "metadata": {
        "id": "S_aQzI429gTn"
      },
      "outputs": [],
      "source": [
        "df=pd.read_csv('https://www.dropbox.com/s/aa37fjiyy63l2h7/UsedCarPrice.csv?dl=1')"
      ]
    },
    {
      "cell_type": "markdown",
      "metadata": {
        "id": "z_XpXajCHkx1"
      },
      "source": []
    },
    {
      "cell_type": "code",
      "execution_count": 8,
      "metadata": {
        "colab": {
          "base_uri": "https://localhost:8080/",
          "height": 206
        },
        "id": "puzDysvt99mH",
        "outputId": "88a203ca-e5b8-4d45-b66a-a5b3736a3596"
      },
      "outputs": [
        {
          "data": {
            "text/html": [
              "<div>\n",
              "<style scoped>\n",
              "    .dataframe tbody tr th:only-of-type {\n",
              "        vertical-align: middle;\n",
              "    }\n",
              "\n",
              "    .dataframe tbody tr th {\n",
              "        vertical-align: top;\n",
              "    }\n",
              "\n",
              "    .dataframe thead th {\n",
              "        text-align: right;\n",
              "    }\n",
              "</style>\n",
              "<table border=\"1\" class=\"dataframe\">\n",
              "  <thead>\n",
              "    <tr style=\"text-align: right;\">\n",
              "      <th></th>\n",
              "      <th>Brand</th>\n",
              "      <th>Model</th>\n",
              "      <th>Year</th>\n",
              "      <th>Selling_Price</th>\n",
              "      <th>KM_Driven</th>\n",
              "      <th>Fuel</th>\n",
              "      <th>Seller_Type</th>\n",
              "      <th>Transmission</th>\n",
              "      <th>Owner</th>\n",
              "    </tr>\n",
              "  </thead>\n",
              "  <tbody>\n",
              "    <tr>\n",
              "      <th>0</th>\n",
              "      <td>Maruti</td>\n",
              "      <td>Maruti 800 AC</td>\n",
              "      <td>2007</td>\n",
              "      <td>60000</td>\n",
              "      <td>70000</td>\n",
              "      <td>Petrol</td>\n",
              "      <td>Individual</td>\n",
              "      <td>Manual</td>\n",
              "      <td>First Owner</td>\n",
              "    </tr>\n",
              "    <tr>\n",
              "      <th>1</th>\n",
              "      <td>Maruti</td>\n",
              "      <td>Maruti Wagon R LXI Minor</td>\n",
              "      <td>2007</td>\n",
              "      <td>135000</td>\n",
              "      <td>50000</td>\n",
              "      <td>Petrol</td>\n",
              "      <td>Individual</td>\n",
              "      <td>Manual</td>\n",
              "      <td>First Owner</td>\n",
              "    </tr>\n",
              "    <tr>\n",
              "      <th>2</th>\n",
              "      <td>Hyundai</td>\n",
              "      <td>Hyundai Verna 1.6 SX</td>\n",
              "      <td>2012</td>\n",
              "      <td>600000</td>\n",
              "      <td>100000</td>\n",
              "      <td>Diesel</td>\n",
              "      <td>Individual</td>\n",
              "      <td>Manual</td>\n",
              "      <td>First Owner</td>\n",
              "    </tr>\n",
              "    <tr>\n",
              "      <th>3</th>\n",
              "      <td>Datsun</td>\n",
              "      <td>Datsun RediGO T Option</td>\n",
              "      <td>2017</td>\n",
              "      <td>250000</td>\n",
              "      <td>46000</td>\n",
              "      <td>Petrol</td>\n",
              "      <td>Individual</td>\n",
              "      <td>Manual</td>\n",
              "      <td>First Owner</td>\n",
              "    </tr>\n",
              "    <tr>\n",
              "      <th>4</th>\n",
              "      <td>Honda</td>\n",
              "      <td>Honda Amaze VX i-DTEC</td>\n",
              "      <td>2014</td>\n",
              "      <td>450000</td>\n",
              "      <td>141000</td>\n",
              "      <td>Diesel</td>\n",
              "      <td>Individual</td>\n",
              "      <td>Manual</td>\n",
              "      <td>Second Owner</td>\n",
              "    </tr>\n",
              "  </tbody>\n",
              "</table>\n",
              "</div>"
            ],
            "text/plain": [
              "     Brand                     Model  Year  Selling_Price  KM_Driven    Fuel  \\\n",
              "0   Maruti             Maruti 800 AC  2007          60000      70000  Petrol   \n",
              "1   Maruti  Maruti Wagon R LXI Minor  2007         135000      50000  Petrol   \n",
              "2  Hyundai      Hyundai Verna 1.6 SX  2012         600000     100000  Diesel   \n",
              "3   Datsun    Datsun RediGO T Option  2017         250000      46000  Petrol   \n",
              "4    Honda     Honda Amaze VX i-DTEC  2014         450000     141000  Diesel   \n",
              "\n",
              "  Seller_Type Transmission         Owner  \n",
              "0  Individual       Manual   First Owner  \n",
              "1  Individual       Manual   First Owner  \n",
              "2  Individual       Manual   First Owner  \n",
              "3  Individual       Manual   First Owner  \n",
              "4  Individual       Manual  Second Owner  "
            ]
          },
          "execution_count": 8,
          "metadata": {},
          "output_type": "execute_result"
        }
      ],
      "source": [
        "df.head()"
      ]
    },
    {
      "cell_type": "code",
      "execution_count": 9,
      "metadata": {
        "colab": {
          "base_uri": "https://localhost:8080/"
        },
        "id": "2C1ztjX29_yV",
        "outputId": "d1d53679-48e7-4e84-97af-0f482df23d5d"
      },
      "outputs": [
        {
          "name": "stdout",
          "output_type": "stream",
          "text": [
            "<class 'pandas.core.frame.DataFrame'>\n",
            "RangeIndex: 4340 entries, 0 to 4339\n",
            "Data columns (total 9 columns):\n",
            " #   Column         Non-Null Count  Dtype \n",
            "---  ------         --------------  ----- \n",
            " 0   Brand          4340 non-null   object\n",
            " 1   Model          4340 non-null   object\n",
            " 2   Year           4340 non-null   int64 \n",
            " 3   Selling_Price  4340 non-null   int64 \n",
            " 4   KM_Driven      4340 non-null   int64 \n",
            " 5   Fuel           4340 non-null   object\n",
            " 6   Seller_Type    4340 non-null   object\n",
            " 7   Transmission   4340 non-null   object\n",
            " 8   Owner          4340 non-null   object\n",
            "dtypes: int64(3), object(6)\n",
            "memory usage: 305.3+ KB\n"
          ]
        }
      ],
      "source": [
        "df.info()"
      ]
    },
    {
      "cell_type": "code",
      "execution_count": 10,
      "metadata": {
        "colab": {
          "base_uri": "https://localhost:8080/"
        },
        "id": "qoZw-71mDNOq",
        "outputId": "503e42ce-c569-44cb-fc5a-a753f35ca014"
      },
      "outputs": [
        {
          "name": "stdout",
          "output_type": "stream",
          "text": [
            "{'Electric', 'Diesel', 'CNG', 'LPG', 'Petrol'}\n"
          ]
        }
      ],
      "source": [
        "fuel_set = set(df['Fuel'])\n",
        "print(fuel_set)"
      ]
    },
    {
      "cell_type": "code",
      "execution_count": 11,
      "metadata": {
        "id": "bThq2zOXDiVW"
      },
      "outputs": [],
      "source": [
        "df['Fuel'] = df['Fuel'].map({'CNG':4, 'LPG':3, 'Electric':5, 'Petrol':2, 'Diesel':1}).astype(int)"
      ]
    },
    {
      "cell_type": "code",
      "execution_count": 12,
      "metadata": {
        "colab": {
          "base_uri": "https://localhost:8080/",
          "height": 206
        },
        "id": "IamjR_UeEUMR",
        "outputId": "ba370e2d-2b01-4cd3-ecd2-188af7707924"
      },
      "outputs": [
        {
          "data": {
            "text/html": [
              "<div>\n",
              "<style scoped>\n",
              "    .dataframe tbody tr th:only-of-type {\n",
              "        vertical-align: middle;\n",
              "    }\n",
              "\n",
              "    .dataframe tbody tr th {\n",
              "        vertical-align: top;\n",
              "    }\n",
              "\n",
              "    .dataframe thead th {\n",
              "        text-align: right;\n",
              "    }\n",
              "</style>\n",
              "<table border=\"1\" class=\"dataframe\">\n",
              "  <thead>\n",
              "    <tr style=\"text-align: right;\">\n",
              "      <th></th>\n",
              "      <th>Brand</th>\n",
              "      <th>Model</th>\n",
              "      <th>Year</th>\n",
              "      <th>Selling_Price</th>\n",
              "      <th>KM_Driven</th>\n",
              "      <th>Fuel</th>\n",
              "      <th>Seller_Type</th>\n",
              "      <th>Transmission</th>\n",
              "      <th>Owner</th>\n",
              "    </tr>\n",
              "  </thead>\n",
              "  <tbody>\n",
              "    <tr>\n",
              "      <th>0</th>\n",
              "      <td>Maruti</td>\n",
              "      <td>Maruti 800 AC</td>\n",
              "      <td>2007</td>\n",
              "      <td>60000</td>\n",
              "      <td>70000</td>\n",
              "      <td>2</td>\n",
              "      <td>Individual</td>\n",
              "      <td>Manual</td>\n",
              "      <td>First Owner</td>\n",
              "    </tr>\n",
              "    <tr>\n",
              "      <th>1</th>\n",
              "      <td>Maruti</td>\n",
              "      <td>Maruti Wagon R LXI Minor</td>\n",
              "      <td>2007</td>\n",
              "      <td>135000</td>\n",
              "      <td>50000</td>\n",
              "      <td>2</td>\n",
              "      <td>Individual</td>\n",
              "      <td>Manual</td>\n",
              "      <td>First Owner</td>\n",
              "    </tr>\n",
              "    <tr>\n",
              "      <th>2</th>\n",
              "      <td>Hyundai</td>\n",
              "      <td>Hyundai Verna 1.6 SX</td>\n",
              "      <td>2012</td>\n",
              "      <td>600000</td>\n",
              "      <td>100000</td>\n",
              "      <td>1</td>\n",
              "      <td>Individual</td>\n",
              "      <td>Manual</td>\n",
              "      <td>First Owner</td>\n",
              "    </tr>\n",
              "    <tr>\n",
              "      <th>3</th>\n",
              "      <td>Datsun</td>\n",
              "      <td>Datsun RediGO T Option</td>\n",
              "      <td>2017</td>\n",
              "      <td>250000</td>\n",
              "      <td>46000</td>\n",
              "      <td>2</td>\n",
              "      <td>Individual</td>\n",
              "      <td>Manual</td>\n",
              "      <td>First Owner</td>\n",
              "    </tr>\n",
              "    <tr>\n",
              "      <th>4</th>\n",
              "      <td>Honda</td>\n",
              "      <td>Honda Amaze VX i-DTEC</td>\n",
              "      <td>2014</td>\n",
              "      <td>450000</td>\n",
              "      <td>141000</td>\n",
              "      <td>1</td>\n",
              "      <td>Individual</td>\n",
              "      <td>Manual</td>\n",
              "      <td>Second Owner</td>\n",
              "    </tr>\n",
              "  </tbody>\n",
              "</table>\n",
              "</div>"
            ],
            "text/plain": [
              "     Brand                     Model  Year  Selling_Price  KM_Driven  Fuel  \\\n",
              "0   Maruti             Maruti 800 AC  2007          60000      70000     2   \n",
              "1   Maruti  Maruti Wagon R LXI Minor  2007         135000      50000     2   \n",
              "2  Hyundai      Hyundai Verna 1.6 SX  2012         600000     100000     1   \n",
              "3   Datsun    Datsun RediGO T Option  2017         250000      46000     2   \n",
              "4    Honda     Honda Amaze VX i-DTEC  2014         450000     141000     1   \n",
              "\n",
              "  Seller_Type Transmission         Owner  \n",
              "0  Individual       Manual   First Owner  \n",
              "1  Individual       Manual   First Owner  \n",
              "2  Individual       Manual   First Owner  \n",
              "3  Individual       Manual   First Owner  \n",
              "4  Individual       Manual  Second Owner  "
            ]
          },
          "execution_count": 12,
          "metadata": {},
          "output_type": "execute_result"
        }
      ],
      "source": [
        "df.head()"
      ]
    },
    {
      "cell_type": "code",
      "execution_count": 13,
      "metadata": {
        "colab": {
          "base_uri": "https://localhost:8080/"
        },
        "id": "uTIlNEknEV9b",
        "outputId": "3fb84708-04bc-4852-929f-fde7f5863e06"
      },
      "outputs": [
        {
          "name": "stdout",
          "output_type": "stream",
          "text": [
            "{'Automatic', 'Manual'}\n"
          ]
        }
      ],
      "source": [
        "transmission_set = set(df['Transmission'])\n",
        "print(transmission_set)"
      ]
    },
    {
      "cell_type": "code",
      "execution_count": 14,
      "metadata": {
        "id": "5AcQSNHfa-Fy"
      },
      "outputs": [],
      "source": [
        "df['Transmission'] = df['Transmission'].map({'Manual':0, 'Automatic':1}).astype(int)"
      ]
    },
    {
      "cell_type": "code",
      "execution_count": 15,
      "metadata": {
        "colab": {
          "base_uri": "https://localhost:8080/",
          "height": 206
        },
        "id": "xsVnip4_bw5t",
        "outputId": "e828794a-2891-462c-efc5-ae4fa433e086"
      },
      "outputs": [
        {
          "data": {
            "text/html": [
              "<div>\n",
              "<style scoped>\n",
              "    .dataframe tbody tr th:only-of-type {\n",
              "        vertical-align: middle;\n",
              "    }\n",
              "\n",
              "    .dataframe tbody tr th {\n",
              "        vertical-align: top;\n",
              "    }\n",
              "\n",
              "    .dataframe thead th {\n",
              "        text-align: right;\n",
              "    }\n",
              "</style>\n",
              "<table border=\"1\" class=\"dataframe\">\n",
              "  <thead>\n",
              "    <tr style=\"text-align: right;\">\n",
              "      <th></th>\n",
              "      <th>Brand</th>\n",
              "      <th>Model</th>\n",
              "      <th>Year</th>\n",
              "      <th>Selling_Price</th>\n",
              "      <th>KM_Driven</th>\n",
              "      <th>Fuel</th>\n",
              "      <th>Seller_Type</th>\n",
              "      <th>Transmission</th>\n",
              "      <th>Owner</th>\n",
              "    </tr>\n",
              "  </thead>\n",
              "  <tbody>\n",
              "    <tr>\n",
              "      <th>0</th>\n",
              "      <td>Maruti</td>\n",
              "      <td>Maruti 800 AC</td>\n",
              "      <td>2007</td>\n",
              "      <td>60000</td>\n",
              "      <td>70000</td>\n",
              "      <td>2</td>\n",
              "      <td>Individual</td>\n",
              "      <td>0</td>\n",
              "      <td>First Owner</td>\n",
              "    </tr>\n",
              "    <tr>\n",
              "      <th>1</th>\n",
              "      <td>Maruti</td>\n",
              "      <td>Maruti Wagon R LXI Minor</td>\n",
              "      <td>2007</td>\n",
              "      <td>135000</td>\n",
              "      <td>50000</td>\n",
              "      <td>2</td>\n",
              "      <td>Individual</td>\n",
              "      <td>0</td>\n",
              "      <td>First Owner</td>\n",
              "    </tr>\n",
              "    <tr>\n",
              "      <th>2</th>\n",
              "      <td>Hyundai</td>\n",
              "      <td>Hyundai Verna 1.6 SX</td>\n",
              "      <td>2012</td>\n",
              "      <td>600000</td>\n",
              "      <td>100000</td>\n",
              "      <td>1</td>\n",
              "      <td>Individual</td>\n",
              "      <td>0</td>\n",
              "      <td>First Owner</td>\n",
              "    </tr>\n",
              "    <tr>\n",
              "      <th>3</th>\n",
              "      <td>Datsun</td>\n",
              "      <td>Datsun RediGO T Option</td>\n",
              "      <td>2017</td>\n",
              "      <td>250000</td>\n",
              "      <td>46000</td>\n",
              "      <td>2</td>\n",
              "      <td>Individual</td>\n",
              "      <td>0</td>\n",
              "      <td>First Owner</td>\n",
              "    </tr>\n",
              "    <tr>\n",
              "      <th>4</th>\n",
              "      <td>Honda</td>\n",
              "      <td>Honda Amaze VX i-DTEC</td>\n",
              "      <td>2014</td>\n",
              "      <td>450000</td>\n",
              "      <td>141000</td>\n",
              "      <td>1</td>\n",
              "      <td>Individual</td>\n",
              "      <td>0</td>\n",
              "      <td>Second Owner</td>\n",
              "    </tr>\n",
              "  </tbody>\n",
              "</table>\n",
              "</div>"
            ],
            "text/plain": [
              "     Brand                     Model  Year  Selling_Price  KM_Driven  Fuel  \\\n",
              "0   Maruti             Maruti 800 AC  2007          60000      70000     2   \n",
              "1   Maruti  Maruti Wagon R LXI Minor  2007         135000      50000     2   \n",
              "2  Hyundai      Hyundai Verna 1.6 SX  2012         600000     100000     1   \n",
              "3   Datsun    Datsun RediGO T Option  2017         250000      46000     2   \n",
              "4    Honda     Honda Amaze VX i-DTEC  2014         450000     141000     1   \n",
              "\n",
              "  Seller_Type  Transmission         Owner  \n",
              "0  Individual             0   First Owner  \n",
              "1  Individual             0   First Owner  \n",
              "2  Individual             0   First Owner  \n",
              "3  Individual             0   First Owner  \n",
              "4  Individual             0  Second Owner  "
            ]
          },
          "execution_count": 15,
          "metadata": {},
          "output_type": "execute_result"
        }
      ],
      "source": [
        "df.head()"
      ]
    },
    {
      "cell_type": "code",
      "execution_count": 16,
      "metadata": {
        "colab": {
          "base_uri": "https://localhost:8080/"
        },
        "id": "Dfpg1PBDbzId",
        "outputId": "14f76a95-3573-4d98-bf9e-48fbb8f55d74"
      },
      "outputs": [
        {
          "name": "stdout",
          "output_type": "stream",
          "text": [
            "{'First Owner', 'Test Drive Car', 'Third Owner', 'Fourth & Above Owner', 'Second Owner'}\n"
          ]
        }
      ],
      "source": [
        "Owner_set = set(df['Owner'])\n",
        "print(Owner_set)"
      ]
    },
    {
      "cell_type": "code",
      "execution_count": 17,
      "metadata": {
        "id": "_0ECV3yeb_kw"
      },
      "outputs": [],
      "source": [
        "df['Owner'] = df['Owner'].map({'First Owner':1, 'Third Owner':3, 'Fourth & Above Owner':4, 'Second Owner':2, 'Test Drive Car':0}).astype(int)"
      ]
    },
    {
      "cell_type": "code",
      "execution_count": 18,
      "metadata": {
        "colab": {
          "base_uri": "https://localhost:8080/"
        },
        "id": "cXHQWK1icTi_",
        "outputId": "95e3bb1e-60d0-4e0d-9169-3bd8772e930e"
      },
      "outputs": [
        {
          "data": {
            "text/plain": [
              "<bound method NDFrame.head of         Brand                                Model  Year  Selling_Price  \\\n",
              "0      Maruti                        Maruti 800 AC  2007          60000   \n",
              "1      Maruti             Maruti Wagon R LXI Minor  2007         135000   \n",
              "2     Hyundai                 Hyundai Verna 1.6 SX  2012         600000   \n",
              "3      Datsun               Datsun RediGO T Option  2017         250000   \n",
              "4       Honda                Honda Amaze VX i-DTEC  2014         450000   \n",
              "...       ...                                  ...   ...            ...   \n",
              "4335  Hyundai  Hyundai i20 Magna 1.4 CRDi (Diesel)  2014         409999   \n",
              "4336  Hyundai           Hyundai i20 Magna 1.4 CRDi  2014         409999   \n",
              "4337   Maruti                  Maruti 800 AC BSIII  2009         110000   \n",
              "4338  Hyundai     Hyundai Creta 1.6 CRDi SX Option  2016         865000   \n",
              "4339  Renault                     Renault KWID RXT  2016         225000   \n",
              "\n",
              "      KM_Driven  Fuel Seller_Type  Transmission  Owner  \n",
              "0         70000     2  Individual             0      1  \n",
              "1         50000     2  Individual             0      1  \n",
              "2        100000     1  Individual             0      1  \n",
              "3         46000     2  Individual             0      1  \n",
              "4        141000     1  Individual             0      2  \n",
              "...         ...   ...         ...           ...    ...  \n",
              "4335      80000     1  Individual             0      2  \n",
              "4336      80000     1  Individual             0      2  \n",
              "4337      83000     2  Individual             0      2  \n",
              "4338      90000     1  Individual             0      1  \n",
              "4339      40000     2  Individual             0      1  \n",
              "\n",
              "[4340 rows x 9 columns]>"
            ]
          },
          "execution_count": 18,
          "metadata": {},
          "output_type": "execute_result"
        }
      ],
      "source": [
        "df.head"
      ]
    },
    {
      "cell_type": "code",
      "execution_count": 19,
      "metadata": {
        "colab": {
          "base_uri": "https://localhost:8080/"
        },
        "id": "HgddXNqMoC76",
        "outputId": "803fc462-f2ca-458d-8639-886fa7c4988d"
      },
      "outputs": [
        {
          "name": "stdout",
          "output_type": "stream",
          "text": [
            "{'Dealer', 'Trustmark Dealer', 'Individual'}\n"
          ]
        }
      ],
      "source": [
        "Seller_Type_set = set(df['Seller_Type'])\n",
        "print(Seller_Type_set)"
      ]
    },
    {
      "cell_type": "code",
      "execution_count": 20,
      "metadata": {
        "id": "SYVq4mfAqsuX"
      },
      "outputs": [],
      "source": [
        "df['Seller_Type'] = df['Seller_Type'].map({'Individual':0, 'Dealer':1, 'Trustmark Dealer':2}).astype(int)"
      ]
    },
    {
      "cell_type": "code",
      "execution_count": 21,
      "metadata": {
        "colab": {
          "base_uri": "https://localhost:8080/",
          "height": 206
        },
        "id": "i4ZkEP4HrHIb",
        "outputId": "1b8ae08a-e6e0-4132-c4da-120d20815cff"
      },
      "outputs": [
        {
          "data": {
            "text/html": [
              "<div>\n",
              "<style scoped>\n",
              "    .dataframe tbody tr th:only-of-type {\n",
              "        vertical-align: middle;\n",
              "    }\n",
              "\n",
              "    .dataframe tbody tr th {\n",
              "        vertical-align: top;\n",
              "    }\n",
              "\n",
              "    .dataframe thead th {\n",
              "        text-align: right;\n",
              "    }\n",
              "</style>\n",
              "<table border=\"1\" class=\"dataframe\">\n",
              "  <thead>\n",
              "    <tr style=\"text-align: right;\">\n",
              "      <th></th>\n",
              "      <th>Brand</th>\n",
              "      <th>Model</th>\n",
              "      <th>Year</th>\n",
              "      <th>Selling_Price</th>\n",
              "      <th>KM_Driven</th>\n",
              "      <th>Fuel</th>\n",
              "      <th>Seller_Type</th>\n",
              "      <th>Transmission</th>\n",
              "      <th>Owner</th>\n",
              "    </tr>\n",
              "  </thead>\n",
              "  <tbody>\n",
              "    <tr>\n",
              "      <th>0</th>\n",
              "      <td>Maruti</td>\n",
              "      <td>Maruti 800 AC</td>\n",
              "      <td>2007</td>\n",
              "      <td>60000</td>\n",
              "      <td>70000</td>\n",
              "      <td>2</td>\n",
              "      <td>0</td>\n",
              "      <td>0</td>\n",
              "      <td>1</td>\n",
              "    </tr>\n",
              "    <tr>\n",
              "      <th>1</th>\n",
              "      <td>Maruti</td>\n",
              "      <td>Maruti Wagon R LXI Minor</td>\n",
              "      <td>2007</td>\n",
              "      <td>135000</td>\n",
              "      <td>50000</td>\n",
              "      <td>2</td>\n",
              "      <td>0</td>\n",
              "      <td>0</td>\n",
              "      <td>1</td>\n",
              "    </tr>\n",
              "    <tr>\n",
              "      <th>2</th>\n",
              "      <td>Hyundai</td>\n",
              "      <td>Hyundai Verna 1.6 SX</td>\n",
              "      <td>2012</td>\n",
              "      <td>600000</td>\n",
              "      <td>100000</td>\n",
              "      <td>1</td>\n",
              "      <td>0</td>\n",
              "      <td>0</td>\n",
              "      <td>1</td>\n",
              "    </tr>\n",
              "    <tr>\n",
              "      <th>3</th>\n",
              "      <td>Datsun</td>\n",
              "      <td>Datsun RediGO T Option</td>\n",
              "      <td>2017</td>\n",
              "      <td>250000</td>\n",
              "      <td>46000</td>\n",
              "      <td>2</td>\n",
              "      <td>0</td>\n",
              "      <td>0</td>\n",
              "      <td>1</td>\n",
              "    </tr>\n",
              "    <tr>\n",
              "      <th>4</th>\n",
              "      <td>Honda</td>\n",
              "      <td>Honda Amaze VX i-DTEC</td>\n",
              "      <td>2014</td>\n",
              "      <td>450000</td>\n",
              "      <td>141000</td>\n",
              "      <td>1</td>\n",
              "      <td>0</td>\n",
              "      <td>0</td>\n",
              "      <td>2</td>\n",
              "    </tr>\n",
              "  </tbody>\n",
              "</table>\n",
              "</div>"
            ],
            "text/plain": [
              "     Brand                     Model  Year  Selling_Price  KM_Driven  Fuel  \\\n",
              "0   Maruti             Maruti 800 AC  2007          60000      70000     2   \n",
              "1   Maruti  Maruti Wagon R LXI Minor  2007         135000      50000     2   \n",
              "2  Hyundai      Hyundai Verna 1.6 SX  2012         600000     100000     1   \n",
              "3   Datsun    Datsun RediGO T Option  2017         250000      46000     2   \n",
              "4    Honda     Honda Amaze VX i-DTEC  2014         450000     141000     1   \n",
              "\n",
              "   Seller_Type  Transmission  Owner  \n",
              "0            0             0      1  \n",
              "1            0             0      1  \n",
              "2            0             0      1  \n",
              "3            0             0      1  \n",
              "4            0             0      2  "
            ]
          },
          "execution_count": 21,
          "metadata": {},
          "output_type": "execute_result"
        }
      ],
      "source": [
        "df.head()"
      ]
    },
    {
      "cell_type": "code",
      "execution_count": 22,
      "metadata": {
        "id": "gn5BTCnGcXUa"
      },
      "outputs": [],
      "source": [
        "X=df.drop(['Selling_Price','Brand','Model'],axis=1)\n",
        "y=df.loc[:,'Selling_Price']"
      ]
    },
    {
      "cell_type": "code",
      "execution_count": 23,
      "metadata": {
        "colab": {
          "base_uri": "https://localhost:8080/",
          "height": 206
        },
        "id": "fOcqFS6Pfdav",
        "outputId": "e2ebc5a9-7ce9-4f17-9544-db2e97311fad"
      },
      "outputs": [
        {
          "data": {
            "text/html": [
              "<div>\n",
              "<style scoped>\n",
              "    .dataframe tbody tr th:only-of-type {\n",
              "        vertical-align: middle;\n",
              "    }\n",
              "\n",
              "    .dataframe tbody tr th {\n",
              "        vertical-align: top;\n",
              "    }\n",
              "\n",
              "    .dataframe thead th {\n",
              "        text-align: right;\n",
              "    }\n",
              "</style>\n",
              "<table border=\"1\" class=\"dataframe\">\n",
              "  <thead>\n",
              "    <tr style=\"text-align: right;\">\n",
              "      <th></th>\n",
              "      <th>Year</th>\n",
              "      <th>KM_Driven</th>\n",
              "      <th>Fuel</th>\n",
              "      <th>Seller_Type</th>\n",
              "      <th>Transmission</th>\n",
              "      <th>Owner</th>\n",
              "    </tr>\n",
              "  </thead>\n",
              "  <tbody>\n",
              "    <tr>\n",
              "      <th>0</th>\n",
              "      <td>2007</td>\n",
              "      <td>70000</td>\n",
              "      <td>2</td>\n",
              "      <td>0</td>\n",
              "      <td>0</td>\n",
              "      <td>1</td>\n",
              "    </tr>\n",
              "    <tr>\n",
              "      <th>1</th>\n",
              "      <td>2007</td>\n",
              "      <td>50000</td>\n",
              "      <td>2</td>\n",
              "      <td>0</td>\n",
              "      <td>0</td>\n",
              "      <td>1</td>\n",
              "    </tr>\n",
              "    <tr>\n",
              "      <th>2</th>\n",
              "      <td>2012</td>\n",
              "      <td>100000</td>\n",
              "      <td>1</td>\n",
              "      <td>0</td>\n",
              "      <td>0</td>\n",
              "      <td>1</td>\n",
              "    </tr>\n",
              "    <tr>\n",
              "      <th>3</th>\n",
              "      <td>2017</td>\n",
              "      <td>46000</td>\n",
              "      <td>2</td>\n",
              "      <td>0</td>\n",
              "      <td>0</td>\n",
              "      <td>1</td>\n",
              "    </tr>\n",
              "    <tr>\n",
              "      <th>4</th>\n",
              "      <td>2014</td>\n",
              "      <td>141000</td>\n",
              "      <td>1</td>\n",
              "      <td>0</td>\n",
              "      <td>0</td>\n",
              "      <td>2</td>\n",
              "    </tr>\n",
              "  </tbody>\n",
              "</table>\n",
              "</div>"
            ],
            "text/plain": [
              "   Year  KM_Driven  Fuel  Seller_Type  Transmission  Owner\n",
              "0  2007      70000     2            0             0      1\n",
              "1  2007      50000     2            0             0      1\n",
              "2  2012     100000     1            0             0      1\n",
              "3  2017      46000     2            0             0      1\n",
              "4  2014     141000     1            0             0      2"
            ]
          },
          "execution_count": 23,
          "metadata": {},
          "output_type": "execute_result"
        }
      ],
      "source": [
        "X.head()"
      ]
    },
    {
      "cell_type": "code",
      "execution_count": 24,
      "metadata": {
        "colab": {
          "base_uri": "https://localhost:8080/"
        },
        "id": "DDMhJ9jVfmhU",
        "outputId": "d6b79155-2f8b-4400-fc2e-e99e46265b9e"
      },
      "outputs": [
        {
          "data": {
            "text/plain": [
              "0     60000\n",
              "1    135000\n",
              "2    600000\n",
              "3    250000\n",
              "4    450000\n",
              "Name: Selling_Price, dtype: int64"
            ]
          },
          "execution_count": 24,
          "metadata": {},
          "output_type": "execute_result"
        }
      ],
      "source": [
        "y.head()"
      ]
    },
    {
      "cell_type": "code",
      "execution_count": 25,
      "metadata": {
        "id": "YlzmS_7KpSnx"
      },
      "outputs": [],
      "source": [
        "from sklearn.preprocessing import StandardScaler"
      ]
    },
    {
      "cell_type": "code",
      "execution_count": 26,
      "metadata": {
        "id": "rWzbkV1AfxG4"
      },
      "outputs": [],
      "source": [
        "from sklearn.model_selection import train_test_split\n",
        "from sklearn.linear_model import LinearRegression\n",
        "from sklearn.pipeline import make_pipeline\n",
        "X_train,X_test,y_train,y_test=train_test_split(X,y,test_size=0.1,random_state=3)"
      ]
    },
    {
      "cell_type": "code",
      "execution_count": 27,
      "metadata": {
        "colab": {
          "base_uri": "https://localhost:8080/"
        },
        "id": "Ll2qnvh_vVAw",
        "outputId": "3e09ad4a-f150-4b00-ba02-5e5d301b38ab"
      },
      "outputs": [
        {
          "data": {
            "text/plain": [
              "(3906, 6)"
            ]
          },
          "execution_count": 27,
          "metadata": {},
          "output_type": "execute_result"
        }
      ],
      "source": [
        "X_train.shape"
      ]
    },
    {
      "cell_type": "code",
      "execution_count": 28,
      "metadata": {
        "colab": {
          "base_uri": "https://localhost:8080/"
        },
        "id": "YdNqYHqPvYkb",
        "outputId": "77f4c81b-8d4e-4caa-9932-a861d2660afb"
      },
      "outputs": [
        {
          "data": {
            "text/plain": [
              "(3906,)"
            ]
          },
          "execution_count": 28,
          "metadata": {},
          "output_type": "execute_result"
        }
      ],
      "source": [
        "y_train.shape"
      ]
    },
    {
      "cell_type": "code",
      "execution_count": 29,
      "metadata": {
        "colab": {
          "base_uri": "https://localhost:8080/"
        },
        "id": "ej4iTTvaoHbV",
        "outputId": "a91f73cb-c99d-475f-e5d0-8775f65d6a4f"
      },
      "outputs": [
        {
          "data": {
            "text/html": [
              "<style>#sk-container-id-1 {color: black;background-color: white;}#sk-container-id-1 pre{padding: 0;}#sk-container-id-1 div.sk-toggleable {background-color: white;}#sk-container-id-1 label.sk-toggleable__label {cursor: pointer;display: block;width: 100%;margin-bottom: 0;padding: 0.3em;box-sizing: border-box;text-align: center;}#sk-container-id-1 label.sk-toggleable__label-arrow:before {content: \"▸\";float: left;margin-right: 0.25em;color: #696969;}#sk-container-id-1 label.sk-toggleable__label-arrow:hover:before {color: black;}#sk-container-id-1 div.sk-estimator:hover label.sk-toggleable__label-arrow:before {color: black;}#sk-container-id-1 div.sk-toggleable__content {max-height: 0;max-width: 0;overflow: hidden;text-align: left;background-color: #f0f8ff;}#sk-container-id-1 div.sk-toggleable__content pre {margin: 0.2em;color: black;border-radius: 0.25em;background-color: #f0f8ff;}#sk-container-id-1 input.sk-toggleable__control:checked~div.sk-toggleable__content {max-height: 200px;max-width: 100%;overflow: auto;}#sk-container-id-1 input.sk-toggleable__control:checked~label.sk-toggleable__label-arrow:before {content: \"▾\";}#sk-container-id-1 div.sk-estimator input.sk-toggleable__control:checked~label.sk-toggleable__label {background-color: #d4ebff;}#sk-container-id-1 div.sk-label input.sk-toggleable__control:checked~label.sk-toggleable__label {background-color: #d4ebff;}#sk-container-id-1 input.sk-hidden--visually {border: 0;clip: rect(1px 1px 1px 1px);clip: rect(1px, 1px, 1px, 1px);height: 1px;margin: -1px;overflow: hidden;padding: 0;position: absolute;width: 1px;}#sk-container-id-1 div.sk-estimator {font-family: monospace;background-color: #f0f8ff;border: 1px dotted black;border-radius: 0.25em;box-sizing: border-box;margin-bottom: 0.5em;}#sk-container-id-1 div.sk-estimator:hover {background-color: #d4ebff;}#sk-container-id-1 div.sk-parallel-item::after {content: \"\";width: 100%;border-bottom: 1px solid gray;flex-grow: 1;}#sk-container-id-1 div.sk-label:hover label.sk-toggleable__label {background-color: #d4ebff;}#sk-container-id-1 div.sk-serial::before {content: \"\";position: absolute;border-left: 1px solid gray;box-sizing: border-box;top: 0;bottom: 0;left: 50%;z-index: 0;}#sk-container-id-1 div.sk-serial {display: flex;flex-direction: column;align-items: center;background-color: white;padding-right: 0.2em;padding-left: 0.2em;position: relative;}#sk-container-id-1 div.sk-item {position: relative;z-index: 1;}#sk-container-id-1 div.sk-parallel {display: flex;align-items: stretch;justify-content: center;background-color: white;position: relative;}#sk-container-id-1 div.sk-item::before, #sk-container-id-1 div.sk-parallel-item::before {content: \"\";position: absolute;border-left: 1px solid gray;box-sizing: border-box;top: 0;bottom: 0;left: 50%;z-index: -1;}#sk-container-id-1 div.sk-parallel-item {display: flex;flex-direction: column;z-index: 1;position: relative;background-color: white;}#sk-container-id-1 div.sk-parallel-item:first-child::after {align-self: flex-end;width: 50%;}#sk-container-id-1 div.sk-parallel-item:last-child::after {align-self: flex-start;width: 50%;}#sk-container-id-1 div.sk-parallel-item:only-child::after {width: 0;}#sk-container-id-1 div.sk-dashed-wrapped {border: 1px dashed gray;margin: 0 0.4em 0.5em 0.4em;box-sizing: border-box;padding-bottom: 0.4em;background-color: white;}#sk-container-id-1 div.sk-label label {font-family: monospace;font-weight: bold;display: inline-block;line-height: 1.2em;}#sk-container-id-1 div.sk-label-container {text-align: center;}#sk-container-id-1 div.sk-container {/* jupyter's `normalize.less` sets `[hidden] { display: none; }` but bootstrap.min.css set `[hidden] { display: none !important; }` so we also need the `!important` here to be able to override the default hidden behavior on the sphinx rendered scikit-learn.org. See: https://github.com/scikit-learn/scikit-learn/issues/21755 */display: inline-block !important;position: relative;}#sk-container-id-1 div.sk-text-repr-fallback {display: none;}</style><div id=\"sk-container-id-1\" class=\"sk-top-container\"><div class=\"sk-text-repr-fallback\"><pre>Pipeline(steps=[(&#x27;standardscaler&#x27;, StandardScaler()),\n",
              "                (&#x27;linearregression&#x27;, LinearRegression())])</pre><b>In a Jupyter environment, please rerun this cell to show the HTML representation or trust the notebook. <br />On GitHub, the HTML representation is unable to render, please try loading this page with nbviewer.org.</b></div><div class=\"sk-container\" hidden><div class=\"sk-item sk-dashed-wrapped\"><div class=\"sk-label-container\"><div class=\"sk-label sk-toggleable\"><input class=\"sk-toggleable__control sk-hidden--visually\" id=\"sk-estimator-id-1\" type=\"checkbox\" ><label for=\"sk-estimator-id-1\" class=\"sk-toggleable__label sk-toggleable__label-arrow\">Pipeline</label><div class=\"sk-toggleable__content\"><pre>Pipeline(steps=[(&#x27;standardscaler&#x27;, StandardScaler()),\n",
              "                (&#x27;linearregression&#x27;, LinearRegression())])</pre></div></div></div><div class=\"sk-serial\"><div class=\"sk-item\"><div class=\"sk-estimator sk-toggleable\"><input class=\"sk-toggleable__control sk-hidden--visually\" id=\"sk-estimator-id-2\" type=\"checkbox\" ><label for=\"sk-estimator-id-2\" class=\"sk-toggleable__label sk-toggleable__label-arrow\">StandardScaler</label><div class=\"sk-toggleable__content\"><pre>StandardScaler()</pre></div></div></div><div class=\"sk-item\"><div class=\"sk-estimator sk-toggleable\"><input class=\"sk-toggleable__control sk-hidden--visually\" id=\"sk-estimator-id-3\" type=\"checkbox\" ><label for=\"sk-estimator-id-3\" class=\"sk-toggleable__label sk-toggleable__label-arrow\">LinearRegression</label><div class=\"sk-toggleable__content\"><pre>LinearRegression()</pre></div></div></div></div></div></div></div>"
            ],
            "text/plain": [
              "Pipeline(steps=[('standardscaler', StandardScaler()),\n",
              "                ('linearregression', LinearRegression())])"
            ]
          },
          "execution_count": 29,
          "metadata": {},
          "output_type": "execute_result"
        }
      ],
      "source": [
        "pipe=make_pipeline(StandardScaler(),LinearRegression())\n",
        "pipe.fit(X_train,y_train)"
      ]
    },
    {
      "cell_type": "code",
      "execution_count": 30,
      "metadata": {
        "colab": {
          "base_uri": "https://localhost:8080/"
        },
        "id": "lnKwE-C8kheY",
        "outputId": "475a8976-a569-42ca-bbbd-d4d6158e67d9"
      },
      "outputs": [
        {
          "data": {
            "text/plain": [
              "(434, 6)"
            ]
          },
          "execution_count": 30,
          "metadata": {},
          "output_type": "execute_result"
        }
      ],
      "source": [
        "X_test.shape"
      ]
    },
    {
      "cell_type": "code",
      "execution_count": 31,
      "metadata": {
        "colab": {
          "base_uri": "https://localhost:8080/"
        },
        "id": "1IFZbwvgp1V8",
        "outputId": "b06692a0-f88a-488d-9a53-2751b053bf22"
      },
      "outputs": [
        {
          "data": {
            "text/plain": [
              "0.519091763615471"
            ]
          },
          "execution_count": 31,
          "metadata": {},
          "output_type": "execute_result"
        }
      ],
      "source": [
        "pipe.score(X_test,y_test)"
      ]
    },
    {
      "cell_type": "code",
      "execution_count": 32,
      "metadata": {
        "id": "uBQnS1JHgOh4"
      },
      "outputs": [],
      "source": [
        "from sklearn.linear_model import LinearRegression"
      ]
    },
    {
      "cell_type": "code",
      "execution_count": 33,
      "metadata": {
        "id": "eoeyz_7mgw1l"
      },
      "outputs": [],
      "source": [
        "Lr=LinearRegression()\n"
      ]
    },
    {
      "cell_type": "code",
      "execution_count": 34,
      "metadata": {
        "id": "EajikH6ihcnl"
      },
      "outputs": [],
      "source": [
        "y_pred=pipe.predict(X_test)"
      ]
    },
    {
      "cell_type": "code",
      "execution_count": 35,
      "metadata": {
        "colab": {
          "base_uri": "https://localhost:8080/"
        },
        "id": "Dk_3CQ-ekMzd",
        "outputId": "ad622e47-b78d-47a5-8bf0-e490ad8a2753"
      },
      "outputs": [
        {
          "data": {
            "text/plain": [
              "(434,)"
            ]
          },
          "execution_count": 35,
          "metadata": {},
          "output_type": "execute_result"
        }
      ],
      "source": [
        "y_pred.shape"
      ]
    },
    {
      "cell_type": "code",
      "execution_count": 36,
      "metadata": {
        "colab": {
          "base_uri": "https://localhost:8080/"
        },
        "id": "KNkbS1JkjrcT",
        "outputId": "15fe64e1-0e86-4d54-81d0-ccc086b3c4fa"
      },
      "outputs": [
        {
          "data": {
            "text/plain": [
              "array([ 641594.595473  ,  521747.24446836, 1584736.09091133,\n",
              "        131923.87554371,  551535.85177486,  605377.27101122,\n",
              "        476640.1166066 ,  462170.02985535,  418070.67705202,\n",
              "         37384.49717813,  333067.86544538,  599819.84526282,\n",
              "        274724.38979436,  445860.20016526,  192046.86316372,\n",
              "        427146.43844624,  505983.18778527, 1430625.72603149,\n",
              "        641785.58543792,  424499.3942073 ,  349401.74942505,\n",
              "        440263.45089039,  588825.01149397,  577440.34459736,\n",
              "         27339.76994811,  456935.04575274,  783645.71611213,\n",
              "        330146.29083242,  826448.20886049,  543108.05042632,\n",
              "       1719066.59690042, 1599166.17175326,  125781.35326184,\n",
              "        697269.60513786,  176199.03552505,  320822.82679096,\n",
              "        505601.71185633,  304261.70975879,  719176.18410282,\n",
              "        378158.52738355,  393517.05384812,  191501.09015672,\n",
              "         72060.46605729, 1397836.22385735,  494830.2094487 ,\n",
              "        435028.46678778,  643796.1035841 ,  261807.85110854,\n",
              "        378946.73021771,  446860.4295618 ,  392971.28084112,\n",
              "        332100.09629628,  -28482.38848837,  328704.85513251,\n",
              "        422214.11514062,  583861.04488439,  469506.28518989,\n",
              "        432663.85828532,  -37921.72403229, 1341654.25040811,\n",
              "        555134.19923932,  258960.33311127, 1514085.22739753,\n",
              "        510369.73808388,  355746.18132091, 1420984.42896411,\n",
              "          8341.38039072,   78944.51957166,  566754.13545095,\n",
              "        643796.1035841 ,  385089.25249958,  649977.43508859,\n",
              "       -155416.65901727,  783588.59094056,  309747.98120348,\n",
              "        430641.91648917,  169594.51119176,  358593.69931818,\n",
              "        313605.22441867,  393517.05384812,  757596.2133624 ,\n",
              "        590988.81856522,  423953.6212003 ,  447599.70622493,\n",
              "        657859.46343014,  396569.62830558,  350189.9522592 ,\n",
              "        779665.89271873,  369408.96677207,  101487.30819154,\n",
              "        250430.34472406,  342183.63274892,  -64311.33103808,\n",
              "        524032.52353504,  399602.6328114 , 1588131.3320751 ,\n",
              "        -31392.76999784,  275067.05650068, 1437173.51941003,\n",
              "       1201016.43504593, 1420984.42896411,  473909.30141209,\n",
              "        115996.51694271, 1703238.03727338,  543753.7521523 ,\n",
              "        431087.45261701,  590400.22047559,  597088.51576446,\n",
              "        260699.83917095,  551942.57868008,  672766.49875345,\n",
              "        377652.76028587,  513077.01329266,  543068.72689985,\n",
              "        412592.5807394 ,  148801.2688697 ,  385089.25249958,\n",
              "        -26640.69539003,  419264.41010469,  -43052.71211879,\n",
              "        605613.73186146,  418818.87397685,   78489.18321257,\n",
              "        547757.93799546,  409805.97609484,  544781.27535478,\n",
              "        510369.73808388,  400853.30918267,  551942.57868008,\n",
              "        212500.13094242,   56480.41720895,  507176.92083794,\n",
              "        340521.79870016, 1416207.31887005,  356208.18337233,\n",
              "        184164.83482218, 1332132.95288605,  355707.37209829,\n",
              "        361646.27377563, 1329831.20789579,  776644.52397166,\n",
              "        275270.16280137,  123878.7468108 ,  419568.46911492,\n",
              "       1079171.19653471,  606125.46793605, 1260975.12558788,\n",
              "        536965.52814445, 1537061.24824642,  498546.69557156,\n",
              "        624263.59155561,  309747.98120348,  536965.52814445,\n",
              "        602223.2629879 ,  449053.01741119,  192046.86316372,\n",
              "        533608.19255481,  462180.3340875 ,  506540.98536132,\n",
              "        175737.03347363,  213953.44212868,  628616.62913064,\n",
              "        521201.47146136,  454818.59145459, -117848.21040788,\n",
              "       1287392.54602019,  188499.95041003,  504975.41272685,\n",
              "        589206.48742291,  623434.86825325,  561124.54593037,\n",
              "        747039.75520927,  140267.90593668,  590400.22047559,\n",
              "        772610.87643396,  657574.13400417, 1420984.42896411,\n",
              "        688193.84374365,  738881.25495669,  446688.40890873,\n",
              "       1607724.29084276,  555922.40207347,  824879.62948964,\n",
              "        -50934.74046033,  673623.52011323,  283089.32763071,\n",
              "        -57077.2627422 ,  473487.30526998,  738881.25495669,\n",
              "        614046.30550022,  198189.38544559,  292571.81593014,\n",
              "        200717.09433942,  667480.99783136,   85177.47850144,\n",
              "        350813.8580153 ,    6446.08922034,  332795.10391225,\n",
              "        493575.56304332,  216255.18711894,  393416.81696896,\n",
              "        488924.85869598, 1689444.48767567,  315593.30766436,\n",
              "        446405.97317226,  350611.43409746, 1621822.14432975,\n",
              "       1241473.1610347 ,  591189.61999644,  362434.47660978,\n",
              "        878188.20936731,  838839.3026016 , 1472321.90598879,\n",
              "        -78335.88166149, 1459395.37435718,   86916.98456112,\n",
              "        693328.59096709,  340082.36151699,  260699.83917095,\n",
              "        786755.77721195,   29541.27805921,  517970.3831651 ,\n",
              "        347964.06745555,  483530.83581331,  606164.27715868,\n",
              "        407541.60447154,  485375.76861754,  430299.24978285,\n",
              "        332116.56221986,  719137.3748802 , 1566061.65271877,\n",
              "        612306.79944054,  170140.28419876,  567905.26247737,\n",
              "        480581.13077738,   93967.04502225,  -79529.61471417,\n",
              "        489974.80246638,  431835.64954184,  382725.84068381,\n",
              "        665741.49177168,  315593.30766436,  320822.82679096,\n",
              "        638230.22365316,  475750.04832309,  229717.49881177,\n",
              "        513326.09963104,  544199.59644032,  198189.38544559,\n",
              "        258960.33311127,  507176.92083794,  145689.04983939,\n",
              "        631973.06107178,  624263.59155561,  270158.2731808 ,\n",
              "       1719066.59690042,  545393.32949299,  135419.35358665,\n",
              "        147687.9322268 , 1719066.59690042,  543753.7521523 ,\n",
              "        807089.89152277,  468758.08826506,  495899.65133263,\n",
              "         83724.16731518,  456489.5096249 ,   93605.27984999,\n",
              "        339536.58850998,   18911.96859956,  153830.45450867,\n",
              "        639893.89863595,  499840.6655034 ,  476740.35348577,\n",
              "         24406.53083576,   41364.32057153,  215692.94818836,\n",
              "        738881.25495669,  435028.46678778,  543272.34750438,\n",
              "        298370.474819  ,  293804.35820544, 1086849.60427173,\n",
              "        575181.9367995 ,  674395.82920225,  457480.81875974,\n",
              "        336041.11046705,  616372.10478006,  445860.20016526,\n",
              "        312940.79844942,  779665.89271873,   38617.03945343,\n",
              "        211852.17089675,  102135.26823721,  511117.93500871,\n",
              "       1310126.13704193,  522980.98343035,  559417.88011641,\n",
              "        219188.42623129,  400853.30918267, 1231091.23722585,\n",
              "        463077.56803461,  -41313.20605911,  578701.46913201,\n",
              "        606125.46793605,  447194.17600642, 1450646.32804954,\n",
              "        -64959.29108375,  510369.73808388,  403786.54829502,\n",
              "        280342.04651261,  575181.9367995 ,  551433.39964921,\n",
              "        289294.71342478,  184710.60782918, 1719066.59690042,\n",
              "        536965.52814445,  228726.18967693,  537511.30115145,\n",
              "        431002.66335669,  585307.79132613,  409281.11053121,\n",
              "        424499.3942073 ,  207265.14683981,  543196.47850576,\n",
              "        347581.71724289,   96617.84839813,   63816.67254349,\n",
              "       -146988.85766872,  462170.02985535,  576078.33009994,\n",
              "        206617.18679414, -169441.20964068,  414332.08679908,\n",
              "        582518.19213404,  597088.51576446, 1637413.58459216,\n",
              "       1518932.58306087, 1467237.39678941,  935475.30050603,\n",
              "        502487.70974233,  343923.13880859,  690925.173242  ,\n",
              "        508671.16097628,  641785.58543792,  357947.68943201,\n",
              "        797796.92251278,  596542.74275745, -283646.8496375 ,\n",
              "        510369.73808388,  475452.35768231,  302857.26199677,\n",
              "        745186.87762992,   15616.96431496,  138066.39782558,\n",
              "        730999.22661514,  606953.67667953,  571194.23137776,\n",
              "        412257.88782814,  695924.14289996,  537511.30115145,\n",
              "        543271.15081768,  140188.57650089,   25600.26388844,\n",
              "        719176.18410282,  431763.54336496,  341821.86757666,\n",
              "        381593.77445664, -290437.33196504,  355300.64519307,\n",
              "        260699.83917095,  292814.24575729,  783588.59094056,\n",
              "        829947.77371325,  515887.15792296,  476194.58047877,\n",
              "         53812.46552663, 1180782.81673612,  -11524.59875261,\n",
              "        420857.28169658,  535390.31916283,  349401.74942505,\n",
              "        543753.7521523 ,  657859.46343014,  616247.81361132,\n",
              "        298331.66559637,  540158.34539038,  138612.17083258,\n",
              "        446760.66444763,   17718.23554689,  491412.86415485,\n",
              "        428440.40837807,  555922.40207347,  740418.85140237,\n",
              "        328704.85513251,  657859.46343014,   33482.29222998,\n",
              "        719176.18410282,  246027.32850187,  198189.38544559,\n",
              "        303319.26404819,  522001.06002375,  604451.92088392,\n",
              "        585671.00347066, 1336357.53251406,  240936.77795313,\n",
              "        -86581.72847317,  703030.65149079,  133094.7509935 ,\n",
              "        780927.01725338,  482353.99138661, 1447656.61710429,\n",
              "        347964.06745555,  174081.29836954,  938368.56979063,\n",
              "        702943.1609762 ,  510369.73808388,  783588.59094056,\n",
              "        359687.19549168,  598243.43959451,  176282.80648063,\n",
              "        122848.11414949, -348847.4302652 ,  496696.84626658,\n",
              "       1693466.55704992,  768669.86226319, 1002325.0393502 ,\n",
              "        448825.62618467,  325512.03788657,  395904.51995347,\n",
              "        547213.36167515,  522192.7805962 ,  742822.26912746,\n",
              "        577979.09561695,  437978.17182371])"
            ]
          },
          "execution_count": 36,
          "metadata": {},
          "output_type": "execute_result"
        }
      ],
      "source": [
        "\n",
        "y_pred"
      ]
    },
    {
      "cell_type": "code",
      "execution_count": 37,
      "metadata": {
        "id": "DSge_ogdzdg-"
      },
      "outputs": [],
      "source": [
        "from sklearn.metrics import r2_score"
      ]
    },
    {
      "cell_type": "code",
      "execution_count": 38,
      "metadata": {
        "colab": {
          "base_uri": "https://localhost:8080/"
        },
        "id": "KBGEN9_nsF4g",
        "outputId": "e7ea3191-6b75-463c-c02a-56353ed8bde2"
      },
      "outputs": [
        {
          "data": {
            "text/plain": [
              "0.519091763615471"
            ]
          },
          "execution_count": 38,
          "metadata": {},
          "output_type": "execute_result"
        }
      ],
      "source": [
        "r2_score(y_test, y_pred)"
      ]
    },
    {
      "cell_type": "code",
      "execution_count": null,
      "metadata": {
        "id": "LXgS3FLctiQa"
      },
      "outputs": [],
      "source": []
    }
  ],
  "metadata": {
    "accelerator": "GPU",
    "colab": {
      "collapsed_sections": [],
      "name": "Used car price detection.ipynb",
      "provenance": []
    },
    "gpuClass": "standard",
    "kernelspec": {
      "display_name": "Python 3.10.5 64-bit",
      "language": "python",
      "name": "python3"
    },
    "language_info": {
      "codemirror_mode": {
        "name": "ipython",
        "version": 3
      },
      "file_extension": ".py",
      "mimetype": "text/x-python",
      "name": "python",
      "nbconvert_exporter": "python",
      "pygments_lexer": "ipython3",
      "version": "3.10.5"
    },
    "vscode": {
      "interpreter": {
        "hash": "916dbcbb3f70747c44a77c7bcd40155683ae19c65e1c03b4aa3499c5328201f1"
      }
    }
  },
  "nbformat": 4,
  "nbformat_minor": 0
}
